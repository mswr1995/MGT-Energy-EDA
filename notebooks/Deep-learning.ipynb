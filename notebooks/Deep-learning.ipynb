{
 "cells": [
  {
   "cell_type": "code",
   "execution_count": 1,
   "id": "461599fe",
   "metadata": {},
   "outputs": [
    {
     "name": "stdout",
     "output_type": "stream",
     "text": [
      "Defaulting to user installation because normal site-packages is not writeable\n",
      "Requirement already satisfied: tensorflow in c:\\users\\musav\\appdata\\roaming\\python\\python310\\site-packages (2.12.0)\n",
      "Requirement already satisfied: scikit-learn in c:\\programdata\\anaconda3\\lib\\site-packages (1.2.1)\n",
      "Requirement already satisfied: tensorflow-intel==2.12.0 in c:\\users\\musav\\appdata\\roaming\\python\\python310\\site-packages (from tensorflow) (2.12.0)\n",
      "Requirement already satisfied: libclang>=13.0.0 in c:\\users\\musav\\appdata\\roaming\\python\\python310\\site-packages (from tensorflow-intel==2.12.0->tensorflow) (16.0.0)\n",
      "Requirement already satisfied: keras<2.13,>=2.12.0 in c:\\users\\musav\\appdata\\roaming\\python\\python310\\site-packages (from tensorflow-intel==2.12.0->tensorflow) (2.12.0)\n",
      "Requirement already satisfied: tensorflow-estimator<2.13,>=2.12.0 in c:\\users\\musav\\appdata\\roaming\\python\\python310\\site-packages (from tensorflow-intel==2.12.0->tensorflow) (2.12.0)\n",
      "Requirement already satisfied: protobuf!=4.21.0,!=4.21.1,!=4.21.2,!=4.21.3,!=4.21.4,!=4.21.5,<5.0.0dev,>=3.20.3 in c:\\users\\musav\\appdata\\roaming\\python\\python310\\site-packages (from tensorflow-intel==2.12.0->tensorflow) (4.22.1)\n",
      "Requirement already satisfied: setuptools in c:\\programdata\\anaconda3\\lib\\site-packages (from tensorflow-intel==2.12.0->tensorflow) (65.6.3)\n",
      "Requirement already satisfied: six>=1.12.0 in c:\\programdata\\anaconda3\\lib\\site-packages (from tensorflow-intel==2.12.0->tensorflow) (1.16.0)\n",
      "Requirement already satisfied: gast<=0.4.0,>=0.2.1 in c:\\users\\musav\\appdata\\roaming\\python\\python310\\site-packages (from tensorflow-intel==2.12.0->tensorflow) (0.4.0)\n",
      "Requirement already satisfied: packaging in c:\\programdata\\anaconda3\\lib\\site-packages (from tensorflow-intel==2.12.0->tensorflow) (22.0)\n",
      "Requirement already satisfied: opt-einsum>=2.3.2 in c:\\users\\musav\\appdata\\roaming\\python\\python310\\site-packages (from tensorflow-intel==2.12.0->tensorflow) (3.3.0)\n",
      "Requirement already satisfied: jax>=0.3.15 in c:\\users\\musav\\appdata\\roaming\\python\\python310\\site-packages (from tensorflow-intel==2.12.0->tensorflow) (0.4.8)\n",
      "Requirement already satisfied: grpcio<2.0,>=1.24.3 in c:\\users\\musav\\appdata\\roaming\\python\\python310\\site-packages (from tensorflow-intel==2.12.0->tensorflow) (1.53.0)\n",
      "Requirement already satisfied: tensorflow-io-gcs-filesystem>=0.23.1 in c:\\users\\musav\\appdata\\roaming\\python\\python310\\site-packages (from tensorflow-intel==2.12.0->tensorflow) (0.31.0)\n",
      "Requirement already satisfied: h5py>=2.9.0 in c:\\programdata\\anaconda3\\lib\\site-packages (from tensorflow-intel==2.12.0->tensorflow) (3.7.0)\n",
      "Requirement already satisfied: astunparse>=1.6.0 in c:\\users\\musav\\appdata\\roaming\\python\\python310\\site-packages (from tensorflow-intel==2.12.0->tensorflow) (1.6.3)\n",
      "Requirement already satisfied: google-pasta>=0.1.1 in c:\\users\\musav\\appdata\\roaming\\python\\python310\\site-packages (from tensorflow-intel==2.12.0->tensorflow) (0.2.0)\n",
      "Requirement already satisfied: termcolor>=1.1.0 in c:\\users\\musav\\appdata\\roaming\\python\\python310\\site-packages (from tensorflow-intel==2.12.0->tensorflow) (1.1.0)\n",
      "Requirement already satisfied: flatbuffers>=2.0 in c:\\users\\musav\\appdata\\roaming\\python\\python310\\site-packages (from tensorflow-intel==2.12.0->tensorflow) (23.3.3)\n",
      "Requirement already satisfied: tensorboard<2.13,>=2.12 in c:\\users\\musav\\appdata\\roaming\\python\\python310\\site-packages (from tensorflow-intel==2.12.0->tensorflow) (2.12.1)\n",
      "Requirement already satisfied: wrapt<1.15,>=1.11.0 in c:\\programdata\\anaconda3\\lib\\site-packages (from tensorflow-intel==2.12.0->tensorflow) (1.14.1)\n",
      "Requirement already satisfied: numpy<1.24,>=1.22 in c:\\programdata\\anaconda3\\lib\\site-packages (from tensorflow-intel==2.12.0->tensorflow) (1.23.5)\n",
      "Requirement already satisfied: absl-py>=1.0.0 in c:\\users\\musav\\appdata\\roaming\\python\\python310\\site-packages (from tensorflow-intel==2.12.0->tensorflow) (1.4.0)\n",
      "Requirement already satisfied: typing-extensions>=3.6.6 in c:\\programdata\\anaconda3\\lib\\site-packages (from tensorflow-intel==2.12.0->tensorflow) (4.4.0)\n",
      "Requirement already satisfied: joblib>=1.1.1 in c:\\programdata\\anaconda3\\lib\\site-packages (from scikit-learn) (1.1.1)\n",
      "Requirement already satisfied: scipy>=1.3.2 in c:\\programdata\\anaconda3\\lib\\site-packages (from scikit-learn) (1.10.0)\n",
      "Requirement already satisfied: threadpoolctl>=2.0.0 in c:\\programdata\\anaconda3\\lib\\site-packages (from scikit-learn) (2.2.0)\n",
      "Requirement already satisfied: wheel<1.0,>=0.23.0 in c:\\programdata\\anaconda3\\lib\\site-packages (from astunparse>=1.6.0->tensorflow-intel==2.12.0->tensorflow) (0.38.4)\n",
      "Requirement already satisfied: ml-dtypes>=0.0.3 in c:\\users\\musav\\appdata\\roaming\\python\\python310\\site-packages (from jax>=0.3.15->tensorflow-intel==2.12.0->tensorflow) (0.0.4)\n",
      "Requirement already satisfied: requests<3,>=2.21.0 in c:\\programdata\\anaconda3\\lib\\site-packages (from tensorboard<2.13,>=2.12->tensorflow-intel==2.12.0->tensorflow) (2.28.1)\n",
      "Requirement already satisfied: tensorboard-plugin-wit>=1.6.0 in c:\\users\\musav\\appdata\\roaming\\python\\python310\\site-packages (from tensorboard<2.13,>=2.12->tensorflow-intel==2.12.0->tensorflow) (1.8.1)\n",
      "Requirement already satisfied: werkzeug>=1.0.1 in c:\\programdata\\anaconda3\\lib\\site-packages (from tensorboard<2.13,>=2.12->tensorflow-intel==2.12.0->tensorflow) (2.2.2)\n",
      "Requirement already satisfied: markdown>=2.6.8 in c:\\programdata\\anaconda3\\lib\\site-packages (from tensorboard<2.13,>=2.12->tensorflow-intel==2.12.0->tensorflow) (3.4.1)\n",
      "Requirement already satisfied: tensorboard-data-server<0.8.0,>=0.7.0 in c:\\users\\musav\\appdata\\roaming\\python\\python310\\site-packages (from tensorboard<2.13,>=2.12->tensorflow-intel==2.12.0->tensorflow) (0.7.0)\n",
      "Requirement already satisfied: google-auth-oauthlib<1.1,>=0.5 in c:\\users\\musav\\appdata\\roaming\\python\\python310\\site-packages (from tensorboard<2.13,>=2.12->tensorflow-intel==2.12.0->tensorflow) (1.0.0)\n",
      "Requirement already satisfied: google-auth<3,>=1.6.3 in c:\\users\\musav\\appdata\\roaming\\python\\python310\\site-packages (from tensorboard<2.13,>=2.12->tensorflow-intel==2.12.0->tensorflow) (2.17.2)\n",
      "Requirement already satisfied: rsa<5,>=3.1.4 in c:\\users\\musav\\appdata\\roaming\\python\\python310\\site-packages (from google-auth<3,>=1.6.3->tensorboard<2.13,>=2.12->tensorflow-intel==2.12.0->tensorflow) (4.9)\n",
      "Requirement already satisfied: cachetools<6.0,>=2.0.0 in c:\\users\\musav\\appdata\\roaming\\python\\python310\\site-packages (from google-auth<3,>=1.6.3->tensorboard<2.13,>=2.12->tensorflow-intel==2.12.0->tensorflow) (5.3.0)\n",
      "Requirement already satisfied: pyasn1-modules>=0.2.1 in c:\\programdata\\anaconda3\\lib\\site-packages (from google-auth<3,>=1.6.3->tensorboard<2.13,>=2.12->tensorflow-intel==2.12.0->tensorflow) (0.2.8)\n",
      "Requirement already satisfied: requests-oauthlib>=0.7.0 in c:\\users\\musav\\appdata\\roaming\\python\\python310\\site-packages (from google-auth-oauthlib<1.1,>=0.5->tensorboard<2.13,>=2.12->tensorflow-intel==2.12.0->tensorflow) (1.3.1)\n",
      "Requirement already satisfied: certifi>=2017.4.17 in c:\\programdata\\anaconda3\\lib\\site-packages (from requests<3,>=2.21.0->tensorboard<2.13,>=2.12->tensorflow-intel==2.12.0->tensorflow) (2022.12.7)\n",
      "Requirement already satisfied: urllib3<1.27,>=1.21.1 in c:\\programdata\\anaconda3\\lib\\site-packages (from requests<3,>=2.21.0->tensorboard<2.13,>=2.12->tensorflow-intel==2.12.0->tensorflow) (1.26.14)\n",
      "Requirement already satisfied: idna<4,>=2.5 in c:\\programdata\\anaconda3\\lib\\site-packages (from requests<3,>=2.21.0->tensorboard<2.13,>=2.12->tensorflow-intel==2.12.0->tensorflow) (3.4)\n",
      "Requirement already satisfied: charset-normalizer<3,>=2 in c:\\programdata\\anaconda3\\lib\\site-packages (from requests<3,>=2.21.0->tensorboard<2.13,>=2.12->tensorflow-intel==2.12.0->tensorflow) (2.0.4)\n",
      "Requirement already satisfied: MarkupSafe>=2.1.1 in c:\\programdata\\anaconda3\\lib\\site-packages (from werkzeug>=1.0.1->tensorboard<2.13,>=2.12->tensorflow-intel==2.12.0->tensorflow) (2.1.1)\n",
      "Requirement already satisfied: pyasn1<0.5.0,>=0.4.6 in c:\\programdata\\anaconda3\\lib\\site-packages (from pyasn1-modules>=0.2.1->google-auth<3,>=1.6.3->tensorboard<2.13,>=2.12->tensorflow-intel==2.12.0->tensorflow) (0.4.8)\n",
      "Requirement already satisfied: oauthlib>=3.0.0 in c:\\users\\musav\\appdata\\roaming\\python\\python310\\site-packages (from requests-oauthlib>=0.7.0->google-auth-oauthlib<1.1,>=0.5->tensorboard<2.13,>=2.12->tensorflow-intel==2.12.0->tensorflow) (3.2.2)\n",
      "Note: you may need to restart the kernel to use updated packages.\n"
     ]
    }
   ],
   "source": [
    "pip install tensorflow scikit-learn"
   ]
  },
  {
   "cell_type": "code",
   "execution_count": 3,
   "id": "04a100cc",
   "metadata": {},
   "outputs": [],
   "source": [
    "import numpy as np\n",
    "import pandas as pd\n",
    "from sklearn.model_selection import train_test_split\n",
    "from sklearn.preprocessing import StandardScaler\n",
    "import tensorflow as tf\n",
    "from tensorflow.keras.models import Sequential\n",
    "from tensorflow.keras.layers import Dense, Dropout"
   ]
  },
  {
   "cell_type": "markdown",
   "id": "758de860",
   "metadata": {},
   "source": [
    "#### Load the data"
   ]
  },
  {
   "cell_type": "code",
   "execution_count": 37,
   "id": "454f5add",
   "metadata": {},
   "outputs": [],
   "source": [
    "train_data = pd.read_csv('rdas/train_data.csv')\n",
    "test_data = pd.read_csv('rdas/test_data.csv')"
   ]
  },
  {
   "cell_type": "code",
   "execution_count": 38,
   "id": "fd0cd1bb",
   "metadata": {},
   "outputs": [
    {
     "name": "stdout",
     "output_type": "stream",
     "text": [
      "        time  input_voltage     el_power\n",
      "0  810.07028           10.0  1228.791720\n",
      "1  811.06938           10.0  1223.041745\n",
      "2  812.06848           10.0  1244.960866\n",
      "3  813.06758           10.0  1229.259058\n",
      "4  814.06668           10.0  1248.117024\n"
     ]
    }
   ],
   "source": [
    "print(train_data.head())"
   ]
  },
  {
   "cell_type": "markdown",
   "id": "000ef49d",
   "metadata": {},
   "source": [
    "#### Select input(X) and target(y) variables"
   ]
  },
  {
   "cell_type": "code",
   "execution_count": 39,
   "id": "8c59d663",
   "metadata": {},
   "outputs": [],
   "source": [
    "X_train = train_data[['input_voltage']].values\n",
    "y_train = train_data['el_power'].values\n",
    "X_test = test_data[['input_voltage']].values\n",
    "y_test = test_data['el_power'].values\n",
    "\n",
    "# Standardize the input features\n",
    "scaler = StandardScaler()\n",
    "X_train_scaled = scaler.fit_transform(X_train)\n",
    "X_test_scaled = scaler.fit_transform(X_test)"
   ]
  },
  {
   "cell_type": "markdown",
   "id": "91c96ccb",
   "metadata": {},
   "source": [
    "### Build a deeper model with more neurons and adjusted dropout"
   ]
  },
  {
   "cell_type": "code",
   "execution_count": 40,
   "id": "2f00ddf5",
   "metadata": {},
   "outputs": [],
   "source": [
    "model = Sequential()\n",
    "model.add(Dense(units=128, activation='relu', input_shape=(X_train_scaled.shape[1],)))\n",
    "model.add(Dropout(0.3))\n",
    "model.add(Dense(units=64, activation='relu'))\n",
    "model.add(Dropout(0.3))\n",
    "model.add(Dense(units=32, activation='relu'))\n",
    "model.add(Dense(units=1))  # Output layer (no activation for regression)\n",
    "\n",
    "# Compile the model with a smaller learning rate\n",
    "model.compile(optimizer=tf.keras.optimizers.Adam(learning_rate=0.0001),\n",
    "              loss='mean_squared_error',\n",
    "              metrics=[tf.keras.metrics.RootMeanSquaredError()])\n"
   ]
  },
  {
   "cell_type": "markdown",
   "id": "6c924f17",
   "metadata": {},
   "source": [
    "#### Train the model"
   ]
  },
  {
   "cell_type": "code",
   "execution_count": 43,
   "id": "0bc209ad",
   "metadata": {},
   "outputs": [
    {
     "name": "stdout",
     "output_type": "stream",
     "text": [
      "Epoch 1/100\n",
      "1324/1324 - 3s - loss: 181775.7812 - root_mean_squared_error: 426.3517 - val_loss: 18322.8164 - val_root_mean_squared_error: 135.3618 - 3s/epoch - 2ms/step\n",
      "Epoch 2/100\n",
      "1324/1324 - 3s - loss: 183481.8750 - root_mean_squared_error: 428.3478 - val_loss: 16427.7227 - val_root_mean_squared_error: 128.1707 - 3s/epoch - 2ms/step\n",
      "Epoch 3/100\n",
      "1324/1324 - 3s - loss: 182443.5625 - root_mean_squared_error: 427.1341 - val_loss: 15541.9873 - val_root_mean_squared_error: 124.6675 - 3s/epoch - 2ms/step\n",
      "Epoch 4/100\n",
      "1324/1324 - 3s - loss: 182679.9844 - root_mean_squared_error: 427.4108 - val_loss: 16846.2695 - val_root_mean_squared_error: 129.7932 - 3s/epoch - 2ms/step\n",
      "Epoch 5/100\n",
      "1324/1324 - 4s - loss: 182635.7812 - root_mean_squared_error: 427.3591 - val_loss: 16300.7568 - val_root_mean_squared_error: 127.6744 - 4s/epoch - 3ms/step\n",
      "Epoch 6/100\n",
      "1324/1324 - 3s - loss: 181602.5156 - root_mean_squared_error: 426.1485 - val_loss: 14642.1758 - val_root_mean_squared_error: 121.0049 - 3s/epoch - 3ms/step\n",
      "Epoch 7/100\n",
      "1324/1324 - 3s - loss: 181559.4531 - root_mean_squared_error: 426.0979 - val_loss: 17013.4844 - val_root_mean_squared_error: 130.4357 - 3s/epoch - 2ms/step\n",
      "Epoch 8/100\n",
      "1324/1324 - 3s - loss: 182320.0938 - root_mean_squared_error: 426.9896 - val_loss: 14825.3135 - val_root_mean_squared_error: 121.7592 - 3s/epoch - 2ms/step\n",
      "Epoch 9/100\n",
      "1324/1324 - 3s - loss: 181491.4844 - root_mean_squared_error: 426.0182 - val_loss: 16099.0098 - val_root_mean_squared_error: 126.8819 - 3s/epoch - 2ms/step\n",
      "Epoch 10/100\n",
      "1324/1324 - 3s - loss: 181540.2656 - root_mean_squared_error: 426.0754 - val_loss: 15677.4492 - val_root_mean_squared_error: 125.2096 - 3s/epoch - 2ms/step\n",
      "Epoch 11/100\n",
      "1324/1324 - 3s - loss: 181840.1094 - root_mean_squared_error: 426.4272 - val_loss: 15397.8965 - val_root_mean_squared_error: 124.0883 - 3s/epoch - 2ms/step\n",
      "Epoch 12/100\n",
      "1324/1324 - 3s - loss: 181363.7344 - root_mean_squared_error: 425.8682 - val_loss: 17286.0566 - val_root_mean_squared_error: 131.4765 - 3s/epoch - 2ms/step\n",
      "Epoch 13/100\n",
      "1324/1324 - 3s - loss: 181393.1250 - root_mean_squared_error: 425.9027 - val_loss: 15488.8936 - val_root_mean_squared_error: 124.4544 - 3s/epoch - 2ms/step\n",
      "Epoch 14/100\n",
      "1324/1324 - 3s - loss: 180091.7344 - root_mean_squared_error: 424.3722 - val_loss: 16804.6621 - val_root_mean_squared_error: 129.6328 - 3s/epoch - 3ms/step\n",
      "Epoch 15/100\n",
      "1324/1324 - 3s - loss: 180059.5000 - root_mean_squared_error: 424.3342 - val_loss: 16046.0459 - val_root_mean_squared_error: 126.6730 - 3s/epoch - 2ms/step\n",
      "Epoch 16/100\n",
      "1324/1324 - 3s - loss: 180640.9844 - root_mean_squared_error: 425.0188 - val_loss: 14086.9629 - val_root_mean_squared_error: 118.6885 - 3s/epoch - 2ms/step\n",
      "Epoch 17/100\n",
      "1324/1324 - 3s - loss: 181397.0938 - root_mean_squared_error: 425.9074 - val_loss: 14177.6123 - val_root_mean_squared_error: 119.0698 - 3s/epoch - 2ms/step\n",
      "Epoch 18/100\n",
      "1324/1324 - 4s - loss: 180584.9062 - root_mean_squared_error: 424.9528 - val_loss: 16174.2109 - val_root_mean_squared_error: 127.1779 - 4s/epoch - 3ms/step\n",
      "Epoch 19/100\n",
      "1324/1324 - 3s - loss: 179752.6875 - root_mean_squared_error: 423.9725 - val_loss: 17738.4492 - val_root_mean_squared_error: 133.1858 - 3s/epoch - 3ms/step\n",
      "Epoch 20/100\n",
      "1324/1324 - 3s - loss: 180150.8438 - root_mean_squared_error: 424.4418 - val_loss: 18790.9805 - val_root_mean_squared_error: 137.0802 - 3s/epoch - 2ms/step\n",
      "Epoch 21/100\n",
      "1324/1324 - 3s - loss: 180582.9375 - root_mean_squared_error: 424.9505 - val_loss: 14789.7305 - val_root_mean_squared_error: 121.6130 - 3s/epoch - 2ms/step\n",
      "Epoch 22/100\n",
      "1324/1324 - 3s - loss: 179981.0156 - root_mean_squared_error: 424.2417 - val_loss: 19411.8574 - val_root_mean_squared_error: 139.3264 - 3s/epoch - 3ms/step\n",
      "Epoch 23/100\n",
      "1324/1324 - 3s - loss: 180181.5000 - root_mean_squared_error: 424.4779 - val_loss: 19500.4414 - val_root_mean_squared_error: 139.6440 - 3s/epoch - 2ms/step\n",
      "Epoch 24/100\n",
      "1324/1324 - 3s - loss: 178110.5469 - root_mean_squared_error: 422.0315 - val_loss: 19133.2910 - val_root_mean_squared_error: 138.3231 - 3s/epoch - 3ms/step\n",
      "Epoch 25/100\n",
      "1324/1324 - 3s - loss: 180265.8125 - root_mean_squared_error: 424.5772 - val_loss: 18809.1914 - val_root_mean_squared_error: 137.1466 - 3s/epoch - 2ms/step\n",
      "Epoch 26/100\n",
      "1324/1324 - 3s - loss: 179528.8125 - root_mean_squared_error: 423.7084 - val_loss: 15916.2598 - val_root_mean_squared_error: 126.1597 - 3s/epoch - 2ms/step\n",
      "Epoch 27/100\n",
      "1324/1324 - 3s - loss: 180873.5938 - root_mean_squared_error: 425.2924 - val_loss: 17169.1758 - val_root_mean_squared_error: 131.0312 - 3s/epoch - 2ms/step\n",
      "Epoch 28/100\n",
      "1324/1324 - 3s - loss: 178615.2188 - root_mean_squared_error: 422.6289 - val_loss: 18465.4473 - val_root_mean_squared_error: 135.8876 - 3s/epoch - 2ms/step\n",
      "Epoch 29/100\n",
      "1324/1324 - 3s - loss: 179436.9219 - root_mean_squared_error: 423.5999 - val_loss: 16563.6230 - val_root_mean_squared_error: 128.6997 - 3s/epoch - 2ms/step\n",
      "Epoch 30/100\n",
      "1324/1324 - 3s - loss: 178565.5156 - root_mean_squared_error: 422.5701 - val_loss: 14959.4648 - val_root_mean_squared_error: 122.3089 - 3s/epoch - 2ms/step\n",
      "Epoch 31/100\n",
      "1324/1324 - 3s - loss: 179637.5469 - root_mean_squared_error: 423.8367 - val_loss: 17500.1680 - val_root_mean_squared_error: 132.2882 - 3s/epoch - 2ms/step\n",
      "Epoch 32/100\n",
      "1324/1324 - 3s - loss: 178816.2344 - root_mean_squared_error: 422.8667 - val_loss: 16311.1934 - val_root_mean_squared_error: 127.7153 - 3s/epoch - 2ms/step\n",
      "Epoch 33/100\n",
      "1324/1324 - 3s - loss: 177715.8438 - root_mean_squared_error: 421.5636 - val_loss: 18446.2422 - val_root_mean_squared_error: 135.8169 - 3s/epoch - 2ms/step\n",
      "Epoch 34/100\n",
      "1324/1324 - 3s - loss: 178565.4219 - root_mean_squared_error: 422.5700 - val_loss: 16466.2129 - val_root_mean_squared_error: 128.3207 - 3s/epoch - 2ms/step\n",
      "Epoch 35/100\n",
      "1324/1324 - 3s - loss: 179262.3281 - root_mean_squared_error: 423.3938 - val_loss: 15095.5391 - val_root_mean_squared_error: 122.8639 - 3s/epoch - 2ms/step\n",
      "Epoch 36/100\n",
      "1324/1324 - 3s - loss: 178051.1250 - root_mean_squared_error: 421.9611 - val_loss: 15636.9111 - val_root_mean_squared_error: 125.0476 - 3s/epoch - 2ms/step\n",
      "Epoch 37/100\n",
      "1324/1324 - 3s - loss: 179197.2344 - root_mean_squared_error: 423.3170 - val_loss: 17881.8125 - val_root_mean_squared_error: 133.7229 - 3s/epoch - 2ms/step\n",
      "Epoch 38/100\n",
      "1324/1324 - 3s - loss: 177897.8750 - root_mean_squared_error: 421.7794 - val_loss: 15191.4844 - val_root_mean_squared_error: 123.2537 - 3s/epoch - 2ms/step\n",
      "Epoch 39/100\n",
      "1324/1324 - 3s - loss: 179398.5938 - root_mean_squared_error: 423.5547 - val_loss: 16190.2500 - val_root_mean_squared_error: 127.2409 - 3s/epoch - 3ms/step\n",
      "Epoch 40/100\n",
      "1324/1324 - 3s - loss: 179933.5625 - root_mean_squared_error: 424.1858 - val_loss: 18578.7363 - val_root_mean_squared_error: 136.3038 - 3s/epoch - 2ms/step\n",
      "Epoch 41/100\n",
      "1324/1324 - 3s - loss: 177248.7656 - root_mean_squared_error: 421.0092 - val_loss: 18420.9375 - val_root_mean_squared_error: 135.7238 - 3s/epoch - 2ms/step\n",
      "Epoch 42/100\n",
      "1324/1324 - 3s - loss: 178850.2812 - root_mean_squared_error: 422.9070 - val_loss: 17118.7148 - val_root_mean_squared_error: 130.8385 - 3s/epoch - 2ms/step\n",
      "Epoch 43/100\n",
      "1324/1324 - 4s - loss: 178338.0469 - root_mean_squared_error: 422.3009 - val_loss: 15307.5830 - val_root_mean_squared_error: 123.7238 - 4s/epoch - 3ms/step\n",
      "Epoch 44/100\n",
      "1324/1324 - 3s - loss: 178531.9844 - root_mean_squared_error: 422.5305 - val_loss: 22459.1914 - val_root_mean_squared_error: 149.8639 - 3s/epoch - 3ms/step\n",
      "Epoch 45/100\n",
      "1324/1324 - 4s - loss: 177982.7969 - root_mean_squared_error: 421.8801 - val_loss: 18088.6309 - val_root_mean_squared_error: 134.4940 - 4s/epoch - 3ms/step\n",
      "Epoch 46/100\n",
      "1324/1324 - 4s - loss: 179006.0938 - root_mean_squared_error: 423.0911 - val_loss: 19338.3086 - val_root_mean_squared_error: 139.0622 - 4s/epoch - 3ms/step\n",
      "Epoch 47/100\n",
      "1324/1324 - 3s - loss: 178631.6719 - root_mean_squared_error: 422.6484 - val_loss: 17281.1309 - val_root_mean_squared_error: 131.4577 - 3s/epoch - 2ms/step\n",
      "Epoch 48/100\n",
      "1324/1324 - 4s - loss: 178121.0312 - root_mean_squared_error: 422.0439 - val_loss: 19238.0859 - val_root_mean_squared_error: 138.7014 - 4s/epoch - 3ms/step\n",
      "Epoch 49/100\n",
      "1324/1324 - 3s - loss: 179030.9844 - root_mean_squared_error: 423.1205 - val_loss: 19441.8340 - val_root_mean_squared_error: 139.4340 - 3s/epoch - 2ms/step\n"
     ]
    },
    {
     "name": "stdout",
     "output_type": "stream",
     "text": [
      "Epoch 50/100\n",
      "1324/1324 - 4s - loss: 178783.9219 - root_mean_squared_error: 422.8285 - val_loss: 17344.3145 - val_root_mean_squared_error: 131.6978 - 4s/epoch - 3ms/step\n",
      "Epoch 51/100\n",
      "1324/1324 - 3s - loss: 177685.2344 - root_mean_squared_error: 421.5273 - val_loss: 17005.2930 - val_root_mean_squared_error: 130.4043 - 3s/epoch - 2ms/step\n",
      "Epoch 52/100\n",
      "1324/1324 - 3s - loss: 176825.8281 - root_mean_squared_error: 420.5066 - val_loss: 18886.0332 - val_root_mean_squared_error: 137.4265 - 3s/epoch - 2ms/step\n",
      "Epoch 53/100\n",
      "1324/1324 - 3s - loss: 177020.3906 - root_mean_squared_error: 420.7379 - val_loss: 20114.2070 - val_root_mean_squared_error: 141.8246 - 3s/epoch - 3ms/step\n",
      "Epoch 54/100\n",
      "1324/1324 - 3s - loss: 177090.7188 - root_mean_squared_error: 420.8215 - val_loss: 18169.2695 - val_root_mean_squared_error: 134.7934 - 3s/epoch - 3ms/step\n",
      "Epoch 55/100\n",
      "1324/1324 - 3s - loss: 177605.4531 - root_mean_squared_error: 421.4326 - val_loss: 16662.6035 - val_root_mean_squared_error: 129.0837 - 3s/epoch - 2ms/step\n",
      "Epoch 56/100\n",
      "1324/1324 - 3s - loss: 177262.5312 - root_mean_squared_error: 421.0256 - val_loss: 16644.9316 - val_root_mean_squared_error: 129.0152 - 3s/epoch - 2ms/step\n",
      "Epoch 57/100\n",
      "1324/1324 - 3s - loss: 177259.0000 - root_mean_squared_error: 421.0214 - val_loss: 18323.0273 - val_root_mean_squared_error: 135.3626 - 3s/epoch - 2ms/step\n",
      "Epoch 58/100\n",
      "1324/1324 - 3s - loss: 178468.9531 - root_mean_squared_error: 422.4559 - val_loss: 24446.3496 - val_root_mean_squared_error: 156.3533 - 3s/epoch - 2ms/step\n",
      "Epoch 59/100\n",
      "1324/1324 - 3s - loss: 177710.8906 - root_mean_squared_error: 421.5577 - val_loss: 19397.5332 - val_root_mean_squared_error: 139.2750 - 3s/epoch - 2ms/step\n",
      "Epoch 60/100\n",
      "1324/1324 - 3s - loss: 177543.4375 - root_mean_squared_error: 421.3590 - val_loss: 17753.2109 - val_root_mean_squared_error: 133.2412 - 3s/epoch - 2ms/step\n",
      "Epoch 61/100\n",
      "1324/1324 - 3s - loss: 176816.1562 - root_mean_squared_error: 420.4951 - val_loss: 16913.3730 - val_root_mean_squared_error: 130.0514 - 3s/epoch - 2ms/step\n",
      "Epoch 62/100\n",
      "1324/1324 - 3s - loss: 176365.2812 - root_mean_squared_error: 419.9587 - val_loss: 16505.2520 - val_root_mean_squared_error: 128.4728 - 3s/epoch - 2ms/step\n",
      "Epoch 63/100\n",
      "1324/1324 - 3s - loss: 177014.0156 - root_mean_squared_error: 420.7303 - val_loss: 17801.3613 - val_root_mean_squared_error: 133.4217 - 3s/epoch - 2ms/step\n",
      "Epoch 64/100\n",
      "1324/1324 - 3s - loss: 176977.3125 - root_mean_squared_error: 420.6867 - val_loss: 20347.3848 - val_root_mean_squared_error: 142.6443 - 3s/epoch - 2ms/step\n",
      "Epoch 65/100\n",
      "1324/1324 - 3s - loss: 177476.5312 - root_mean_squared_error: 421.2796 - val_loss: 18131.7617 - val_root_mean_squared_error: 134.6542 - 3s/epoch - 2ms/step\n",
      "Epoch 66/100\n",
      "1324/1324 - 3s - loss: 177471.5000 - root_mean_squared_error: 421.2737 - val_loss: 17327.7754 - val_root_mean_squared_error: 131.6350 - 3s/epoch - 2ms/step\n",
      "Epoch 67/100\n",
      "1324/1324 - 3s - loss: 177702.8125 - root_mean_squared_error: 421.5481 - val_loss: 19148.5977 - val_root_mean_squared_error: 138.3785 - 3s/epoch - 2ms/step\n",
      "Epoch 68/100\n",
      "1324/1324 - 3s - loss: 177100.9844 - root_mean_squared_error: 420.8337 - val_loss: 17081.7793 - val_root_mean_squared_error: 130.6973 - 3s/epoch - 2ms/step\n",
      "Epoch 69/100\n",
      "1324/1324 - 3s - loss: 175832.2031 - root_mean_squared_error: 419.3235 - val_loss: 17046.4668 - val_root_mean_squared_error: 130.5621 - 3s/epoch - 2ms/step\n",
      "Epoch 70/100\n",
      "1324/1324 - 4s - loss: 177025.9219 - root_mean_squared_error: 420.7445 - val_loss: 18405.8203 - val_root_mean_squared_error: 135.6680 - 4s/epoch - 3ms/step\n",
      "Epoch 71/100\n",
      "1324/1324 - 3s - loss: 177402.1719 - root_mean_squared_error: 421.1914 - val_loss: 18846.6328 - val_root_mean_squared_error: 137.2830 - 3s/epoch - 3ms/step\n",
      "Epoch 72/100\n",
      "1324/1324 - 4s - loss: 176454.5469 - root_mean_squared_error: 420.0649 - val_loss: 20486.1250 - val_root_mean_squared_error: 143.1297 - 4s/epoch - 3ms/step\n",
      "Epoch 73/100\n",
      "1324/1324 - 3s - loss: 176873.8125 - root_mean_squared_error: 420.5637 - val_loss: 20055.4180 - val_root_mean_squared_error: 141.6172 - 3s/epoch - 2ms/step\n",
      "Epoch 74/100\n",
      "1324/1324 - 4s - loss: 179319.5000 - root_mean_squared_error: 423.4613 - val_loss: 19851.1816 - val_root_mean_squared_error: 140.8942 - 4s/epoch - 3ms/step\n",
      "Epoch 75/100\n",
      "1324/1324 - 3s - loss: 177951.4062 - root_mean_squared_error: 421.8429 - val_loss: 17119.0469 - val_root_mean_squared_error: 130.8398 - 3s/epoch - 2ms/step\n",
      "Epoch 76/100\n",
      "1324/1324 - 4s - loss: 177026.8906 - root_mean_squared_error: 420.7456 - val_loss: 19957.2461 - val_root_mean_squared_error: 141.2701 - 4s/epoch - 3ms/step\n",
      "Epoch 77/100\n",
      "1324/1324 - 3s - loss: 176114.1562 - root_mean_squared_error: 419.6596 - val_loss: 17335.0469 - val_root_mean_squared_error: 131.6626 - 3s/epoch - 3ms/step\n",
      "Epoch 78/100\n",
      "1324/1324 - 4s - loss: 177033.6250 - root_mean_squared_error: 420.7536 - val_loss: 17210.9004 - val_root_mean_squared_error: 131.1903 - 4s/epoch - 3ms/step\n",
      "Epoch 79/100\n",
      "1324/1324 - 3s - loss: 175866.3906 - root_mean_squared_error: 419.3643 - val_loss: 19829.6328 - val_root_mean_squared_error: 140.8177 - 3s/epoch - 3ms/step\n",
      "Epoch 80/100\n",
      "1324/1324 - 3s - loss: 176507.5469 - root_mean_squared_error: 420.1280 - val_loss: 18755.9395 - val_root_mean_squared_error: 136.9523 - 3s/epoch - 2ms/step\n",
      "Epoch 81/100\n",
      "1324/1324 - 4s - loss: 177663.1250 - root_mean_squared_error: 421.5010 - val_loss: 18942.0547 - val_root_mean_squared_error: 137.6301 - 4s/epoch - 3ms/step\n",
      "Epoch 82/100\n",
      "1324/1324 - 3s - loss: 176014.5000 - root_mean_squared_error: 419.5408 - val_loss: 22502.4668 - val_root_mean_squared_error: 150.0082 - 3s/epoch - 3ms/step\n",
      "Epoch 83/100\n",
      "1324/1324 - 3s - loss: 175947.7812 - root_mean_squared_error: 419.4613 - val_loss: 18803.6445 - val_root_mean_squared_error: 137.1264 - 3s/epoch - 2ms/step\n",
      "Epoch 84/100\n",
      "1324/1324 - 3s - loss: 177042.8750 - root_mean_squared_error: 420.7646 - val_loss: 18192.6367 - val_root_mean_squared_error: 134.8801 - 3s/epoch - 2ms/step\n",
      "Epoch 85/100\n",
      "1324/1324 - 4s - loss: 176483.8594 - root_mean_squared_error: 420.0998 - val_loss: 18543.1426 - val_root_mean_squared_error: 136.1732 - 4s/epoch - 3ms/step\n",
      "Epoch 86/100\n",
      "1324/1324 - 3s - loss: 175214.6094 - root_mean_squared_error: 418.5865 - val_loss: 20222.3574 - val_root_mean_squared_error: 142.2053 - 3s/epoch - 2ms/step\n",
      "Epoch 87/100\n",
      "1324/1324 - 3s - loss: 176444.5156 - root_mean_squared_error: 420.0530 - val_loss: 18431.4863 - val_root_mean_squared_error: 135.7626 - 3s/epoch - 2ms/step\n",
      "Epoch 88/100\n",
      "1324/1324 - 3s - loss: 176845.1094 - root_mean_squared_error: 420.5296 - val_loss: 19835.9297 - val_root_mean_squared_error: 140.8401 - 3s/epoch - 2ms/step\n",
      "Epoch 89/100\n",
      "1324/1324 - 3s - loss: 177100.0938 - root_mean_squared_error: 420.8326 - val_loss: 24843.8711 - val_root_mean_squared_error: 157.6194 - 3s/epoch - 2ms/step\n",
      "Epoch 90/100\n",
      "1324/1324 - 4s - loss: 175905.7188 - root_mean_squared_error: 419.4112 - val_loss: 19770.4473 - val_root_mean_squared_error: 140.6074 - 4s/epoch - 3ms/step\n",
      "Epoch 91/100\n",
      "1324/1324 - 4s - loss: 174575.1250 - root_mean_squared_error: 417.8219 - val_loss: 21596.8984 - val_root_mean_squared_error: 146.9588 - 4s/epoch - 3ms/step\n",
      "Epoch 92/100\n",
      "1324/1324 - 3s - loss: 177362.9375 - root_mean_squared_error: 421.1448 - val_loss: 19088.8301 - val_root_mean_squared_error: 138.1623 - 3s/epoch - 3ms/step\n",
      "Epoch 93/100\n",
      "1324/1324 - 4s - loss: 176183.3281 - root_mean_squared_error: 419.7420 - val_loss: 22939.7402 - val_root_mean_squared_error: 151.4587 - 4s/epoch - 3ms/step\n",
      "Epoch 94/100\n",
      "1324/1324 - 3s - loss: 174204.5312 - root_mean_squared_error: 417.3782 - val_loss: 19961.3301 - val_root_mean_squared_error: 141.2846 - 3s/epoch - 2ms/step\n",
      "Epoch 95/100\n",
      "1324/1324 - 3s - loss: 174083.8281 - root_mean_squared_error: 417.2336 - val_loss: 22850.5098 - val_root_mean_squared_error: 151.1638 - 3s/epoch - 2ms/step\n",
      "Epoch 96/100\n",
      "1324/1324 - 4s - loss: 174229.5000 - root_mean_squared_error: 417.4081 - val_loss: 17293.5859 - val_root_mean_squared_error: 131.5051 - 4s/epoch - 3ms/step\n",
      "Epoch 97/100\n",
      "1324/1324 - 4s - loss: 173985.4219 - root_mean_squared_error: 417.1156 - val_loss: 20839.7402 - val_root_mean_squared_error: 144.3598 - 4s/epoch - 3ms/step\n",
      "Epoch 98/100\n",
      "1324/1324 - 3s - loss: 176806.8594 - root_mean_squared_error: 420.4841 - val_loss: 18531.7969 - val_root_mean_squared_error: 136.1315 - 3s/epoch - 2ms/step\n"
     ]
    },
    {
     "name": "stdout",
     "output_type": "stream",
     "text": [
      "Epoch 99/100\n",
      "1324/1324 - 3s - loss: 174875.7031 - root_mean_squared_error: 418.1814 - val_loss: 20862.1875 - val_root_mean_squared_error: 144.4375 - 3s/epoch - 2ms/step\n",
      "Epoch 100/100\n",
      "1324/1324 - 3s - loss: 174576.6875 - root_mean_squared_error: 417.8238 - val_loss: 22255.1992 - val_root_mean_squared_error: 149.1818 - 3s/epoch - 2ms/step\n"
     ]
    }
   ],
   "source": [
    "# from tensorflow.keras.callbacks import EarlyStopping\n",
    "\n",
    "# early_stop = EarlyStopping(monitor = 'val_loss', patience = 10, restore_best_weights = True)\n",
    "\n",
    "history = model.fit(\n",
    "    X_train_scaled, y_train,\n",
    "    epochs = 100,\n",
    "    batch_size = 32,\n",
    "    validation_split = 0.2,\n",
    "    # callbacks = [early_stop],  # Early stopping callback\n",
    "    verbose = 2)"
   ]
  },
  {
   "cell_type": "markdown",
   "id": "170506a0",
   "metadata": {},
   "source": [
    "#### Evaluate the model"
   ]
  },
  {
   "cell_type": "code",
   "execution_count": 44,
   "id": "403a806e",
   "metadata": {},
   "outputs": [
    {
     "name": "stdout",
     "output_type": "stream",
     "text": [
      "Test RMSE: 426.32\n"
     ]
    }
   ],
   "source": [
    "test_loss, test_rmse = model.evaluate(X_test_scaled, y_test, verbose = 0)\n",
    "\n",
    "print(f'Test RMSE: {test_rmse:.2f}')"
   ]
  },
  {
   "cell_type": "markdown",
   "id": "7e1ee1c6",
   "metadata": {},
   "source": [
    "### Make predictions and Visualize Results"
   ]
  },
  {
   "cell_type": "code",
   "execution_count": 35,
   "id": "231b8fbc",
   "metadata": {},
   "outputs": [
    {
     "name": "stdout",
     "output_type": "stream",
     "text": [
      "572/572 [==============================] - 1s 1ms/step\n",
      "        Actual    Predicted\n",
      "0  1193.140713  1223.898193\n",
      "1  1107.066421  1223.898193\n",
      "2  1180.406767  1223.898193\n",
      "3  1095.551498  1223.898193\n",
      "4  1177.073719  1223.898193\n"
     ]
    }
   ],
   "source": [
    "y_pred = model.predict(X_test_scaled)\n",
    "\n",
    "# Compare predicted and actual values\n",
    "comparison_df = pd.DataFrame({'Actual': y_test, 'Predicted': y_pred.flatten()})\n",
    "print(comparison_df.head())"
   ]
  }
 ],
 "metadata": {
  "kernelspec": {
   "display_name": "Python 3 (ipykernel)",
   "language": "python",
   "name": "python3"
  },
  "language_info": {
   "codemirror_mode": {
    "name": "ipython",
    "version": 3
   },
   "file_extension": ".py",
   "mimetype": "text/x-python",
   "name": "python",
   "nbconvert_exporter": "python",
   "pygments_lexer": "ipython3",
   "version": "3.10.9"
  }
 },
 "nbformat": 4,
 "nbformat_minor": 5
}
