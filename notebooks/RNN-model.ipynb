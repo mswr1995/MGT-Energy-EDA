{
 "cells": [
  {
   "cell_type": "code",
   "execution_count": 16,
   "id": "26087008",
   "metadata": {
    "scrolled": false
   },
   "outputs": [
    {
     "name": "stdout",
     "output_type": "stream",
     "text": [
      "Defaulting to user installation because normal site-packages is not writeable\n",
      "Requirement already satisfied: keras-tuner in c:\\users\\musav\\appdata\\roaming\\python\\python310\\site-packages (1.4.7)\n",
      "Requirement already satisfied: packaging in c:\\programdata\\anaconda3\\lib\\site-packages (from keras-tuner) (22.0)\n",
      "Requirement already satisfied: requests in c:\\programdata\\anaconda3\\lib\\site-packages (from keras-tuner) (2.28.1)\n",
      "Requirement already satisfied: kt-legacy in c:\\users\\musav\\appdata\\roaming\\python\\python310\\site-packages (from keras-tuner) (1.0.5)\n",
      "Requirement already satisfied: keras in c:\\users\\musav\\appdata\\roaming\\python\\python310\\site-packages (from keras-tuner) (2.12.0)\n",
      "Requirement already satisfied: charset-normalizer<3,>=2 in c:\\programdata\\anaconda3\\lib\\site-packages (from requests->keras-tuner) (2.0.4)\n",
      "Requirement already satisfied: idna<4,>=2.5 in c:\\programdata\\anaconda3\\lib\\site-packages (from requests->keras-tuner) (3.4)\n",
      "Requirement already satisfied: urllib3<1.27,>=1.21.1 in c:\\programdata\\anaconda3\\lib\\site-packages (from requests->keras-tuner) (1.26.14)\n",
      "Requirement already satisfied: certifi>=2017.4.17 in c:\\programdata\\anaconda3\\lib\\site-packages (from requests->keras-tuner) (2022.12.7)\n",
      "Note: you may need to restart the kernel to use updated packages.\n"
     ]
    }
   ],
   "source": [
    "pip install keras-tuner"
   ]
  },
  {
   "cell_type": "code",
   "execution_count": 17,
   "id": "38ec7c6b",
   "metadata": {},
   "outputs": [],
   "source": [
    "import numpy as np\n",
    "import pandas as pd\n",
    "from sklearn.model_selection import train_test_split\n",
    "from sklearn.preprocessing import StandardScaler\n",
    "import tensorflow as tf\n",
    "from tensorflow.keras.models import Sequential\n",
    "from tensorflow.keras.layers import Dense, Dropout"
   ]
  },
  {
   "cell_type": "markdown",
   "id": "d0e8c6a1",
   "metadata": {},
   "source": [
    "#### Read the data"
   ]
  },
  {
   "cell_type": "code",
   "execution_count": 18,
   "id": "f009cf54",
   "metadata": {},
   "outputs": [],
   "source": [
    "train_data = pd.read_csv('processed-data/train_data.csv')\n",
    "test_data = pd.read_csv('processed-data/test_data.csv')"
   ]
  },
  {
   "cell_type": "markdown",
   "id": "a046e223",
   "metadata": {},
   "source": [
    "### Select input(X) and target(y) variables"
   ]
  },
  {
   "cell_type": "code",
   "execution_count": 19,
   "id": "1e4f1cfd",
   "metadata": {},
   "outputs": [],
   "source": [
    "X_train = train_data[['input_voltage']].values\n",
    "y_train = train_data['el_power'].values\n",
    "X_test = test_data[['input_voltage']].values\n",
    "y_test = test_data['el_power'].values\n",
    "\n",
    "# Standardize the input features\n",
    "scaler = StandardScaler()\n",
    "X_train_scaled = scaler.fit_transform(X_train)\n",
    "X_test_scaled = scaler.fit_transform(X_test)"
   ]
  },
  {
   "cell_type": "markdown",
   "id": "a26eb25c",
   "metadata": {},
   "source": [
    "### Reshape the data for time-series"
   ]
  },
  {
   "cell_type": "code",
   "execution_count": 21,
   "id": "94658954",
   "metadata": {},
   "outputs": [
    {
     "name": "stdout",
     "output_type": "stream",
     "text": [
      "(52930, 10, 1)\n"
     ]
    }
   ],
   "source": [
    "def create_sequences(data, target, window_size):\n",
    "    X, y = [], []\n",
    "    for i in range(len(data) - window_size):\n",
    "        X.append(data[i:i + window_size])\n",
    "        y.append(target[i + window_size])\n",
    "    return np.array(X), np.array(y)\n",
    "\n",
    "# Usjng the last 10 steps to predict the next\n",
    "window_size = 10\n",
    "\n",
    "X_train_seq, y_train_seq = create_sequences(X_train_scaled, y_train, window_size)\n",
    "X_test_seq, y_test_seq = create_sequences(X_test_scaled, y_test, window_size)\n",
    "\n",
    "# Check new shape: (samples, timesteps, feature)\n",
    "print(X_train_seq.shape) # e.g., (n_samples, 10, m_features)"
   ]
  },
  {
   "cell_type": "code",
   "execution_count": 24,
   "id": "d378fe73",
   "metadata": {},
   "outputs": [],
   "source": [
    "from tensorflow.keras.layers import LSTM, GRU\n",
    "\n",
    "# Define the RNN model-building function for KerasTuner\n",
    "def build_rnn_model(hp):\n",
    "    model = Sequential()\n",
    "\n",
    "    # Choose between LSTM and GRU using a string choice\n",
    "    rnn_type = hp.Choice('rnn_type', ['LSTM', 'GRU'])\n",
    "\n",
    "    if rnn_type == 'LSTM':\n",
    "        model.add(LSTM(units=hp.Int('units', min_value=32, max_value=256, step=32),\n",
    "                       activation='tanh', \n",
    "                       return_sequences=False,  # Set to True if adding more RNN layers\n",
    "                       input_shape=(X_train_seq.shape[1], X_train_seq.shape[2])))\n",
    "    else:\n",
    "        model.add(GRU(units=hp.Int('units', min_value=32, max_value=256, step=32),\n",
    "                      activation='tanh', \n",
    "                      return_sequences=False, \n",
    "                      input_shape=(X_train_seq.shape[1], X_train_seq.shape[2])))\n",
    "    \n",
    "    # Add dropout after RNN layer\n",
    "    model.add(Dropout(rate=hp.Float('dropout', min_value=0.2, max_value=0.5, step=0.1)))\n",
    "\n",
    "    # Dense layer (optional)\n",
    "    model.add(Dense(units=hp.Int('dense_units', min_value=32, max_value=128, step=32), activation='relu'))\n",
    "\n",
    "    # Output layer for regression\n",
    "    model.add(Dense(1))  # No activation since it's regression\n",
    "\n",
    "    # Compile the model\n",
    "    model.compile(\n",
    "        optimizer=tf.keras.optimizers.Adam(\n",
    "            learning_rate=hp.Choice('learning_rate', [0.001, 0.0001])),\n",
    "        loss='mean_squared_error',\n",
    "        metrics=[tf.keras.metrics.RootMeanSquaredError()]\n",
    "    )\n",
    "\n",
    "    return model\n"
   ]
  },
  {
   "cell_type": "markdown",
   "id": "d1be0bf0",
   "metadata": {},
   "source": [
    "### Set-up the Tuner"
   ]
  },
  {
   "cell_type": "code",
   "execution_count": 25,
   "id": "602442a5",
   "metadata": {},
   "outputs": [],
   "source": [
    "tuner = kt.RandomSearch(\n",
    "    build_rnn_model,\n",
    "    objective = kt.Objective('val_root_mean_squared_error', direction='min'), # out goal is to mnimize RMSE\n",
    "    max_trials = 10, # Number of different hyperparameter combinations to try\n",
    "    executions_per_trial = 2, # Number of models to train with each set of hyperparameters\n",
    "    directory = 'models/', # save tuning results\n",
    "    project_name = 'gas_turbine_prediction' # Project name for organizing results\n",
    ")"
   ]
  },
  {
   "cell_type": "code",
   "execution_count": null,
   "id": "090b2ee9",
   "metadata": {},
   "outputs": [],
   "source": []
  },
  {
   "cell_type": "code",
   "execution_count": null,
   "id": "766cd0cd",
   "metadata": {},
   "outputs": [
    {
     "name": "stdout",
     "output_type": "stream",
     "text": [
      "Trial 2 Complete [00h 39m 45s]\n",
      "val_root_mean_squared_error: 68.71615219116211\n",
      "\n",
      "Best val_root_mean_squared_error So Far: 68.71615219116211\n",
      "Total elapsed time: 01h 22m 12s\n",
      "\n",
      "Search: Running Trial #3\n",
      "\n",
      "Value             |Best Value So Far |Hyperparameter\n",
      "GRU               |LSTM              |rnn_type\n",
      "96                |160               |units\n",
      "0.3               |0.2               |dropout\n",
      "64                |96                |dense_units\n",
      "0.0001            |0.001             |learning_rate\n",
      "\n",
      "Epoch 1/50\n",
      "1324/1324 [==============================] - 32s 20ms/step - loss: 3776037.2500 - root_mean_squared_error: 1943.2029 - val_loss: 3182436.0000 - val_root_mean_squared_error: 1783.9384\n",
      "Epoch 2/50\n",
      "1324/1324 [==============================] - 25s 19ms/step - loss: 3118089.7500 - root_mean_squared_error: 1765.8114 - val_loss: 2223543.2500 - val_root_mean_squared_error: 1491.1550\n",
      "Epoch 3/50\n",
      "1324/1324 [==============================] - 25s 19ms/step - loss: 2197911.2500 - root_mean_squared_error: 1482.5354 - val_loss: 1170281.5000 - val_root_mean_squared_error: 1081.7955\n",
      "Epoch 4/50\n",
      "1324/1324 [==============================] - 25s 19ms/step - loss: 1321182.8750 - root_mean_squared_error: 1149.4272 - val_loss: 451232.5312 - val_root_mean_squared_error: 671.7385\n",
      "Epoch 5/50\n",
      "1324/1324 [==============================] - 25s 19ms/step - loss: 691578.8750 - root_mean_squared_error: 831.6122 - val_loss: 131288.7812 - val_root_mean_squared_error: 362.3380\n",
      "Epoch 6/50\n",
      "1324/1324 [==============================] - 24s 18ms/step - loss: 391262.4375 - root_mean_squared_error: 625.5098 - val_loss: 101915.9297 - val_root_mean_squared_error: 319.2427\n",
      "Epoch 7/50\n",
      "1324/1324 [==============================] - 24s 18ms/step - loss: 237895.6562 - root_mean_squared_error: 487.7455 - val_loss: 98446.0312 - val_root_mean_squared_error: 313.7611\n",
      "Epoch 8/50\n",
      "1324/1324 [==============================] - 25s 19ms/step - loss: 189248.2188 - root_mean_squared_error: 435.0267 - val_loss: 65794.2344 - val_root_mean_squared_error: 256.5039\n",
      "Epoch 9/50\n",
      "1324/1324 [==============================] - 24s 18ms/step - loss: 160850.8281 - root_mean_squared_error: 401.0621 - val_loss: 32724.8418 - val_root_mean_squared_error: 180.9001\n",
      "Epoch 10/50\n",
      "1324/1324 [==============================] - 25s 19ms/step - loss: 146659.2812 - root_mean_squared_error: 382.9612 - val_loss: 22625.5254 - val_root_mean_squared_error: 150.4178\n",
      "Epoch 11/50\n",
      "1324/1324 [==============================] - 24s 18ms/step - loss: 142931.4375 - root_mean_squared_error: 378.0627 - val_loss: 18187.9902 - val_root_mean_squared_error: 134.8629\n",
      "Epoch 12/50\n",
      "1324/1324 [==============================] - 24s 18ms/step - loss: 141223.5781 - root_mean_squared_error: 375.7973 - val_loss: 42665.0703 - val_root_mean_squared_error: 206.5553\n",
      "Epoch 13/50\n",
      "1324/1324 [==============================] - 25s 19ms/step - loss: 140213.7969 - root_mean_squared_error: 374.4513 - val_loss: 19427.1719 - val_root_mean_squared_error: 139.3814\n",
      "Epoch 14/50\n",
      "1324/1324 [==============================] - 25s 19ms/step - loss: 140489.0156 - root_mean_squared_error: 374.8186 - val_loss: 17445.8242 - val_root_mean_squared_error: 132.0826\n",
      "Epoch 15/50\n",
      "1324/1324 [==============================] - 25s 19ms/step - loss: 141500.5625 - root_mean_squared_error: 376.1656 - val_loss: 15332.7266 - val_root_mean_squared_error: 123.8254\n",
      "Epoch 16/50\n",
      "1324/1324 [==============================] - 25s 19ms/step - loss: 140292.6406 - root_mean_squared_error: 374.5566 - val_loss: 14278.4541 - val_root_mean_squared_error: 119.4925\n",
      "Epoch 17/50\n",
      "1324/1324 [==============================] - 25s 19ms/step - loss: 140117.5156 - root_mean_squared_error: 374.3228 - val_loss: 14697.4355 - val_root_mean_squared_error: 121.2330\n",
      "Epoch 18/50\n",
      "1324/1324 [==============================] - 25s 19ms/step - loss: 140755.7031 - root_mean_squared_error: 375.1742 - val_loss: 12524.5459 - val_root_mean_squared_error: 111.9131\n",
      "Epoch 19/50\n",
      "1324/1324 [==============================] - 25s 19ms/step - loss: 139975.2969 - root_mean_squared_error: 374.1327 - val_loss: 13866.7588 - val_root_mean_squared_error: 117.7572\n",
      "Epoch 20/50\n",
      "1324/1324 [==============================] - 24s 18ms/step - loss: 140475.8281 - root_mean_squared_error: 374.8011 - val_loss: 14781.7207 - val_root_mean_squared_error: 121.5801\n",
      "Epoch 21/50\n",
      "1324/1324 [==============================] - 25s 19ms/step - loss: 141123.9375 - root_mean_squared_error: 375.6647 - val_loss: 12263.3174 - val_root_mean_squared_error: 110.7399\n",
      "Epoch 22/50\n",
      "1324/1324 [==============================] - 25s 19ms/step - loss: 140860.9688 - root_mean_squared_error: 375.3145 - val_loss: 10372.3545 - val_root_mean_squared_error: 101.8448\n",
      "Epoch 23/50\n",
      "1324/1324 [==============================] - 26s 19ms/step - loss: 141009.1406 - root_mean_squared_error: 375.5118 - val_loss: 9907.9385 - val_root_mean_squared_error: 99.5386\n",
      "Epoch 24/50\n",
      "1324/1324 [==============================] - 26s 19ms/step - loss: 140323.6094 - root_mean_squared_error: 374.5979 - val_loss: 9343.9219 - val_root_mean_squared_error: 96.6640\n",
      "Epoch 25/50\n",
      "1324/1324 [==============================] - 25s 19ms/step - loss: 140530.9531 - root_mean_squared_error: 374.8746 - val_loss: 10638.5977 - val_root_mean_squared_error: 103.1436\n",
      "Epoch 26/50\n",
      "1324/1324 [==============================] - 26s 20ms/step - loss: 139267.3750 - root_mean_squared_error: 373.1855 - val_loss: 12173.2246 - val_root_mean_squared_error: 110.3323\n",
      "Epoch 27/50\n",
      "1324/1324 [==============================] - 26s 20ms/step - loss: 139132.2500 - root_mean_squared_error: 373.0044 - val_loss: 8297.3516 - val_root_mean_squared_error: 91.0898\n",
      "Epoch 28/50\n",
      "1324/1324 [==============================] - 24s 18ms/step - loss: 140751.5781 - root_mean_squared_error: 375.1687 - val_loss: 10742.7363 - val_root_mean_squared_error: 103.6472\n",
      "Epoch 29/50\n",
      "1324/1324 [==============================] - 26s 19ms/step - loss: 140147.0469 - root_mean_squared_error: 374.3622 - val_loss: 9848.9512 - val_root_mean_squared_error: 99.2419\n",
      "Epoch 30/50\n",
      "1324/1324 [==============================] - 26s 19ms/step - loss: 139898.1094 - root_mean_squared_error: 374.0296 - val_loss: 10491.4492 - val_root_mean_squared_error: 102.4278\n",
      "Epoch 31/50\n",
      "1324/1324 [==============================] - 26s 20ms/step - loss: 140015.2969 - root_mean_squared_error: 374.1862 - val_loss: 10694.6182 - val_root_mean_squared_error: 103.4148\n",
      "Epoch 32/50\n",
      "1324/1324 [==============================] - 27s 20ms/step - loss: 140410.3125 - root_mean_squared_error: 374.7137 - val_loss: 10982.7236 - val_root_mean_squared_error: 104.7985\n",
      "Epoch 33/50\n",
      "1324/1324 [==============================] - 26s 20ms/step - loss: 139611.3281 - root_mean_squared_error: 373.6460 - val_loss: 8999.2432 - val_root_mean_squared_error: 94.8643\n",
      "Epoch 34/50\n",
      "1324/1324 [==============================] - 26s 19ms/step - loss: 139268.4375 - root_mean_squared_error: 373.1869 - val_loss: 13240.5322 - val_root_mean_squared_error: 115.0675\n",
      "Epoch 35/50\n",
      "1324/1324 [==============================] - 24s 18ms/step - loss: 140034.0625 - root_mean_squared_error: 374.2112 - val_loss: 11199.3496 - val_root_mean_squared_error: 105.8270\n",
      "Epoch 36/50\n",
      "1324/1324 [==============================] - 26s 19ms/step - loss: 139115.6562 - root_mean_squared_error: 372.9821 - val_loss: 35979.4727 - val_root_mean_squared_error: 189.6826\n",
      "Epoch 37/50\n",
      "1324/1324 [==============================] - 27s 20ms/step - loss: 140949.0938 - root_mean_squared_error: 375.4319 - val_loss: 14935.3906 - val_root_mean_squared_error: 122.2104\n",
      "Epoch 38/50\n",
      "1324/1324 [==============================] - 27s 20ms/step - loss: 139976.0625 - root_mean_squared_error: 374.1338 - val_loss: 12309.0410 - val_root_mean_squared_error: 110.9461\n",
      "Epoch 39/50\n",
      "1324/1324 [==============================] - 26s 19ms/step - loss: 141463.8438 - root_mean_squared_error: 376.1168 - val_loss: 11870.4258 - val_root_mean_squared_error: 108.9515\n",
      "Epoch 40/50\n",
      "1324/1324 [==============================] - 26s 20ms/step - loss: 140041.3906 - root_mean_squared_error: 374.2210 - val_loss: 10350.0332 - val_root_mean_squared_error: 101.7351\n",
      "Epoch 41/50\n"
     ]
    },
    {
     "name": "stdout",
     "output_type": "stream",
     "text": [
      "1324/1324 [==============================] - 26s 20ms/step - loss: 140721.5312 - root_mean_squared_error: 375.1287 - val_loss: 9853.6309 - val_root_mean_squared_error: 99.2655\n",
      "Epoch 42/50\n",
      "1324/1324 [==============================] - 26s 20ms/step - loss: 139382.3906 - root_mean_squared_error: 373.3395 - val_loss: 12038.5371 - val_root_mean_squared_error: 109.7203\n",
      "Epoch 43/50\n",
      "1324/1324 [==============================] - 22s 17ms/step - loss: 138861.4844 - root_mean_squared_error: 372.6412 - val_loss: 13070.5479 - val_root_mean_squared_error: 114.3265\n",
      "Epoch 44/50\n",
      "1324/1324 [==============================] - 24s 18ms/step - loss: 139729.1875 - root_mean_squared_error: 373.8037 - val_loss: 9996.7559 - val_root_mean_squared_error: 99.9838\n",
      "Epoch 45/50\n",
      "1324/1324 [==============================] - 25s 19ms/step - loss: 140006.0469 - root_mean_squared_error: 374.1738 - val_loss: 11556.7627 - val_root_mean_squared_error: 107.5024\n",
      "Epoch 46/50\n",
      "1324/1324 [==============================] - 25s 19ms/step - loss: 139283.0000 - root_mean_squared_error: 373.2064 - val_loss: 12341.5488 - val_root_mean_squared_error: 111.0925\n",
      "Epoch 47/50\n",
      "1324/1324 [==============================] - 24s 18ms/step - loss: 140314.0625 - root_mean_squared_error: 374.5852 - val_loss: 12068.3008 - val_root_mean_squared_error: 109.8558\n",
      "Epoch 48/50\n",
      "1324/1324 [==============================] - 24s 18ms/step - loss: 139249.0938 - root_mean_squared_error: 373.1609 - val_loss: 16333.9004 - val_root_mean_squared_error: 127.8041\n",
      "Epoch 49/50\n",
      "1324/1324 [==============================] - 24s 18ms/step - loss: 139785.6562 - root_mean_squared_error: 373.8792 - val_loss: 9388.0508 - val_root_mean_squared_error: 96.8920\n",
      "Epoch 50/50\n",
      "1324/1324 [==============================] - 76544s 58s/step - loss: 140111.8906 - root_mean_squared_error: 374.3152 - val_loss: 10401.8799 - val_root_mean_squared_error: 101.9896\n",
      "Epoch 1/50\n",
      "1324/1324 [==============================] - 26s 15ms/step - loss: 3802519.2500 - root_mean_squared_error: 1950.0049 - val_loss: 3282735.0000 - val_root_mean_squared_error: 1811.8319\n",
      "Epoch 2/50\n",
      "1324/1324 [==============================] - 12s 9ms/step - loss: 3204580.5000 - root_mean_squared_error: 1790.1342 - val_loss: 2486505.7500 - val_root_mean_squared_error: 1576.8658\n",
      "Epoch 3/50\n",
      "1324/1324 [==============================] - 13s 10ms/step - loss: 2363780.0000 - root_mean_squared_error: 1537.4590 - val_loss: 1546377.3750 - val_root_mean_squared_error: 1243.5342\n",
      "Epoch 4/50\n",
      "1324/1324 [==============================] - 15s 11ms/step - loss: 1518243.2500 - root_mean_squared_error: 1232.1702 - val_loss: 717357.5000 - val_root_mean_squared_error: 846.9696\n",
      "Epoch 5/50\n",
      " 535/1324 [===========>..................] - ETA: 13s - loss: 1011654.5625 - root_mean_squared_error: 1005.8104"
     ]
    }
   ],
   "source": [
    "tuner.search(X_train_seq, y_train_seq,\n",
    "            epochs = 50,\n",
    "            batch_size = 32,\n",
    "            validation_split = 0.2)"
   ]
  },
  {
   "cell_type": "markdown",
   "id": "4d400c9d",
   "metadata": {},
   "source": [
    "### Retrieve and Evaluate the Best Model"
   ]
  },
  {
   "cell_type": "code",
   "execution_count": null,
   "id": "152de079",
   "metadata": {},
   "outputs": [],
   "source": [
    "# Retrieve the best model and its hyperparameters\n",
    "best_rnn_model = tuner.get_best_models(num_models=1)[0]\n",
    "\n",
    "# Display the best hyperparameters\n",
    "best_hps_rnn = tuner.get_best_hyperparameters(num_trials=1)[0]\n",
    "print(f\"Best hyperparameters: {best_hps_rnn.values}\")\n",
    "\n",
    "# Evaluate the best model on the test set\n",
    "test_loss, test_rmse = best_rnn_model.evaluate(X_test_seq, y_test_seq, verbose=0)\n",
    "print(f'Test RMSE: {test_rmse:.2f}')\n"
   ]
  },
  {
   "cell_type": "markdown",
   "id": "5d826817",
   "metadata": {},
   "source": [
    "### Fine-Tune the Best Model"
   ]
  },
  {
   "cell_type": "code",
   "execution_count": null,
   "id": "cc5d9d37",
   "metadata": {},
   "outputs": [],
   "source": [
    "# Optionally, retrain the best model with the full training set\n",
    "best_rnn_model.fit(X_train_seq, y_train_seq, epochs=100, batch_size=32, validation_split=0.2)"
   ]
  }
 ],
 "metadata": {
  "kernelspec": {
   "display_name": "Python 3 (ipykernel)",
   "language": "python",
   "name": "python3"
  },
  "language_info": {
   "codemirror_mode": {
    "name": "ipython",
    "version": 3
   },
   "file_extension": ".py",
   "mimetype": "text/x-python",
   "name": "python",
   "nbconvert_exporter": "python",
   "pygments_lexer": "ipython3",
   "version": "3.10.9"
  }
 },
 "nbformat": 4,
 "nbformat_minor": 5
}
